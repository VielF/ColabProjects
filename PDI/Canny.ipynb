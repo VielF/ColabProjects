{
 "cells": [
  {
   "cell_type": "markdown",
   "metadata": {},
   "source": [
    "Universidade do Vale do Itajaí<br>\n",
    "Escola Politécnica<br>\n",
    "Processamento Digital de Sinais: Imagens\n",
    "\n",
    "# Código de exemplo - Convolução para Detecção de Bordas - Filtro Canny\n",
    "\n",
    "### Tutoriais da OpenCV\n",
    "\n",
    "- https://docs.opencv.org/master/d9/df8/tutorial_root.html\n",
    "- https://www.geeksforgeeks.org/opencv-python-tutorial/"
   ]
  },
  {
   "cell_type": "markdown",
   "metadata": {},
   "source": [
    "Vamos conhecer um detector de bordas muito mais avançado, o Canny. Este detector é baseado na aplicação de duas convoluções, em sentidos diferentes, seguida de uma limiarização e esqueletonização. Os resultados obtidos com ele são considerados os melhores que você pode conseguir com algoritmos que não apelam para heurísticas complexas, como o método de detecção de curvas salientes de Sha'ashua."
   ]
  },
  {
   "cell_type": "markdown",
   "metadata": {},
   "source": [
    "# Detector de borda Canny\n",
    "\n",
    "\n",
    "O detector de bordas Canny é um operador de detecção de bordas que usa um algoritmo de vários estágios para detectar uma ampla variedade de bordas em imagens. Foi desenvolvido por John F. Canny em 1986. Canny também produziu uma teoria computacional de detecção de bordas explicando por que a técnica funciona.\n",
    "\n",
    "O algoritmo de detecção de borda do Processo de Canny pode ser dividido em 5 etapas diferentes:\n",
    "\n",
    "- Aplique filtro gaussiano para suavizar a imagem e remover o ruído\n",
    "- Encontre os gradientes de intensidade da imagem\n",
    "- Aplique supressão não máxima para se livrar de respostas espúrias à detecção de bordas\n",
    "- Aplicar limite (threshold) duplo para determinar arestas potenciais\n",
    "- Rastrear borda por histerese: Finalize a detecção de bordas suprimindo todas as outras bordas que são fracas e não conectadas a bordas fortes\n",
    "    \n",
    " * Fonte: https://en.wikipedia.org/wiki/Canny_edge_detector\n",
    " * Excelente implementação detalhada: [TowardsDataScience::Canny Edge Detection Step by Step in Python by Sofiane Sahir](https://towardsdatascience.com/canny-edge-detection-step-by-step-in-python-computer-vision-b49c3a2d8123)\n",
    "\n",
    "Referências\n",
    "----------\n",
    "\n",
    "1. Canny, J., A Computational Approach To Edge Detection, IEEE Transactions on Pattern Analysis and Machine Intelligence, 8(6):679–698, 1986.\n",
    "\n",
    "2. R. Deriche, Using Canny's criteria to derive a recursively implemented optimal edge detector, Int. J. Computer Vision, Vol. 1, pp. 167–187, April 1987.\n",
    "\n",
    "\n"
   ]
  },
  {
   "cell_type": "markdown",
   "metadata": {},
   "source": [
    "Obs.: Não usaremos o blur acima porque as implementações do Canny no OpenCV e SciKit já o possuem."
   ]
  },
  {
   "cell_type": "code",
   "execution_count": 13,
   "metadata": {},
   "outputs": [
    {
     "name": "stdout",
     "output_type": "stream",
     "text": [
      "Running on Google Colab =  False\n"
     ]
    }
   ],
   "source": [
    "from scipy import ndimage\n",
    "import numpy as np\n",
    "import cv2\n",
    "from scipy import ndimage\n",
    "from matplotlib import pyplot as plt\n",
    "from ipywidgets import interact_manual\n",
    "\n",
    "# Teste se seu notebook está rodando no Google Colab\n",
    "# Você usará isso ao escolher entre interagir via ipywidgets ou não. \n",
    "try:\n",
    "  import google.colab\n",
    "  _ON_COLAB = True\n",
    "except:\n",
    "  _ON_COLAB = False\n",
    "\n",
    "print('Running on Google Colab = ', _ON_COLAB)"
   ]
  },
  {
   "cell_type": "code",
   "execution_count": 16,
   "metadata": {},
   "outputs": [],
   "source": [
    "import skimage\n",
    "\n",
    "sources = [\n",
    "     'skimage.data.astronaut()',\n",
    "     'skimage.data.camera()',\n",
    "     'skimage.data.checkerboard()',\n",
    "     'skimage.data.chelsea()',\n",
    "     'skimage.data.clock()',\n",
    "     'skimage.data.coffee()',\n",
    "     'skimage.data.coins()',\n",
    "     'skimage.data.horse()',\n",
    "     'skimage.data.hubble_deep_field()',\n",
    "     'skimage.data.immunohistochemistry()',\n",
    "     'skimage.data.lbp_frontal_face_cascade_filename()',\n",
    "     'skimage.data.lfw_subset()',\n",
    "     'skimage.data.logo()',\n",
    "     'skimage.data.microaneurysms()',\n",
    "     'skimage.data.moon()',\n",
    "     'skimage.data.page()',\n",
    "     'skimage.data.text()',\n",
    "     'skimage.data.retina()',\n",
    "     'skimage.data.rocket()',\n",
    "     'skimage.data.stereo_motorcycle()']\n",
    "\n",
    "def to_gray(image):\n",
    "     # If the image is colored, make a grayscale copy\n",
    "    if image.shape[-1] == 3:           \n",
    "        b,g,r = cv2.split(image)       # get b,g,r\n",
    "        rgb_img = cv2.merge([r,g,b])     # switch it to rgb\n",
    "        gray_img = cv2.cvtColor(image, cv2.COLOR_BGR2GRAY)\n",
    "    else:\n",
    "        gray_img = image\n",
    "    return gray_img"
   ]
  },
  {
   "cell_type": "markdown",
   "metadata": {},
   "source": [
    "## SciKit\n",
    "\n",
    "O detector de borda Canny que estamos vendo aqui é este: http://scikit-image.org/docs/dev/auto_examples/edges/plot_canny.html. A documentação da função está aqui: https://github.com/scikit-image/scikit-image/blob/master/skimage/feature/_canny.py\n",
    "\n",
    "Esta implementação do algoritmo de detecção de bordas Canny funciona apenas em imagens em tons de cinza!"
   ]
  },
  {
   "cell_type": "code",
   "execution_count": 17,
   "metadata": {},
   "outputs": [
    {
     "data": {
      "application/vnd.jupyter.widget-view+json": {
       "model_id": "c2b54227aa754c7294a9975d614da62e",
       "version_major": 2,
       "version_minor": 0
      },
      "text/plain": [
       "interactive(children=(Dropdown(description='source', options=('skimage.data.astronaut()', 'skimage.data.camera…"
      ]
     },
     "metadata": {},
     "output_type": "display_data"
    }
   ],
   "source": [
    "import numpy as np\n",
    "from ipywidgets import interact, interactive, fixed, interact_manual\n",
    "import ipywidgets as widgets\n",
    "\n",
    "from skimage.transform import (hough_line, hough_line_peaks,\n",
    "                               probabilistic_hough_line)\n",
    "from skimage.feature import canny\n",
    "from skimage import data\n",
    "\n",
    "import matplotlib.pyplot as plt\n",
    "from matplotlib import cm\n",
    "\n",
    "\n",
    "def cannySciKit(source, sigma, low_threshold, high_threshold, use_quantiles):\n",
    "    # Localização de linha usando a Transformada Probabilística de Hough\n",
    "    image = eval(source)\n",
    "    gray_img = to_gray(image)\n",
    "\n",
    "    edges = canny(gray_img, sigma=sigma, low_threshold=low_threshold, high_threshold=high_threshold, use_quantiles=use_quantiles)\n",
    "\n",
    "    # Generating figure 2\n",
    "    fig, axes = plt.subplots(1, 2, figsize=(15, 7), sharex=True, sharey=True)\n",
    "    ax = axes.ravel()\n",
    "\n",
    "    ax[0].imshow(image)\n",
    "    ax[0].set_title('Input image')\n",
    "\n",
    "    ax[1].imshow(edges, cmap=cm.gray)\n",
    "    ax[1].set_title('Canny edges')\n",
    "\n",
    "    for a in ax:\n",
    "        a.set_axis_off()\n",
    "\n",
    "    plt.tight_layout()\n",
    "    plt.show()\n",
    "    \n",
    "if _ON_COLAB:\n",
    "    # Google Colab:\n",
    "    cannySciKit(source='skimage.data.coffee()', sigma=4.5, low_threshold=1, high_threshold=25, use_quantiles=False)\n",
    "else:\n",
    "    # Jupyter Notebook:\n",
    "    interact_manual(cannySciKit, source=sources, sigma=(0.2, 11.0), low_threshold=1, high_threshold=25, use_quantiles=False)"
   ]
  },
  {
   "cell_type": "markdown",
   "metadata": {},
   "source": [
    "## OpenCV\n",
    "\n",
    "Esta implementação do algoritmo de detecção de bordas Canny funciona em imagens coloridas!"
   ]
  },
  {
   "cell_type": "code",
   "execution_count": 18,
   "metadata": {},
   "outputs": [
    {
     "data": {
      "application/vnd.jupyter.widget-view+json": {
       "model_id": "25696c742c1f46cc961285cd1a4c27d5",
       "version_major": 2,
       "version_minor": 0
      },
      "text/plain": [
       "interactive(children=(Dropdown(description='source', options=('skimage.data.astronaut()', 'skimage.data.camera…"
      ]
     },
     "metadata": {},
     "output_type": "display_data"
    }
   ],
   "source": [
    "from skimage import data\n",
    "from ipywidgets import interact, interactive, fixed, interact_manual\n",
    "import ipywidgets as widgets\n",
    "\n",
    "import cv2\n",
    "import numpy as np\n",
    "import matplotlib\n",
    "from matplotlib import pyplot as plt\n",
    "\n",
    "def cannyOpenCV(source,threshold1,threshold2,apertureSize,L2gradient):\n",
    "    image = eval(source)\n",
    "\n",
    "    # Crie uma imagem de borda com a implementação inteligente do OpenCV. Empregue imagens coloridas, se desejar.\n",
    "    edges = cv2.Canny(image, threshold1=threshold1, threshold2=threshold2, apertureSize=apertureSize, L2gradient=L2gradient)\n",
    "    # apertureSize é o tamanho da abertura para o operador de detecção de borda Sobel\n",
    "\n",
    "    # Escreva o resultado no disco\n",
    "    #cv2.imwrite('cannyEdges3.jpg',edges)\n",
    "    \n",
    "    # Crie uma linha de dois gráficos para mostrar a imagem e as bordas\n",
    "    fig, axes = plt.subplots(1, 2, figsize=(15, 7), sharex=True, sharey=True)\n",
    "    ax = axes.ravel()\n",
    "\n",
    "    ax[0].imshow(image)\n",
    "    ax[0].set_title('Input image')\n",
    "\n",
    "    ax[1].imshow(edges, cmap=cm.gray)\n",
    "    ax[1].set_title('Canny edges')\n",
    "\n",
    "    for a in ax:\n",
    "        a.set_axis_off()\n",
    "\n",
    "    plt.tight_layout()\n",
    "    plt.show()\n",
    "\n",
    "\n",
    "if _ON_COLAB:\n",
    "    # Google Colab:\n",
    "    cannyOpenCV(source='skimage.data.coffee()',threshold1=100,threshold2=500,apertureSize=3,L2gradient=True)\n",
    "else:\n",
    "    # Jupyter Notebook:\n",
    "    interact_manual(cannyOpenCV, source=sources, threshold1=100,threshold2=500,apertureSize=3,L2gradient=True)"
   ]
  }
 ],
 "metadata": {
  "gist": {
   "data": {
    "description": "plot_line_hough_transform.ipynb",
    "public": false
   },
   "id": ""
  },
  "kernelspec": {
   "display_name": "Python 3 (ipykernel)",
   "language": "python",
   "name": "python3"
  },
  "language_info": {
   "codemirror_mode": {
    "name": "ipython",
    "version": 3
   },
   "file_extension": ".py",
   "mimetype": "text/x-python",
   "name": "python",
   "nbconvert_exporter": "python",
   "pygments_lexer": "ipython3",
   "version": "3.10.8"
  },
  "varInspector": {
   "cols": {
    "lenName": "20",
    "lenType": "20",
    "lenVar": "60"
   },
   "kernels_config": {
    "python": {
     "delete_cmd_postfix": "",
     "delete_cmd_prefix": "del ",
     "library": "var_list.py",
     "varRefreshCmd": "print(var_dic_list())"
    },
    "r": {
     "delete_cmd_postfix": ") ",
     "delete_cmd_prefix": "rm(",
     "library": "var_list.r",
     "varRefreshCmd": "cat(var_dic_list()) "
    }
   },
   "position": {
    "height": "321.85px",
    "left": "1009px",
    "right": "174px",
    "top": "179px",
    "width": "694px"
   },
   "types_to_exclude": [
    "module",
    "function",
    "builtin_function_or_method",
    "instance",
    "_Feature"
   ],
   "window_display": false
  }
 },
 "nbformat": 4,
 "nbformat_minor": 1
}

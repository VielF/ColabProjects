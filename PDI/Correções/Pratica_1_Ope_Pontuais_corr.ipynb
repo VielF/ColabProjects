{
 "cells": [
  {
   "cell_type": "markdown",
   "metadata": {},
   "source": [
    "Universidade do Vale do Itajaí<br>\n",
    "Escola do Mar, Ciência e Tecnologia<br>\n",
    "Engenharia de Computação - Processamento Digital de Sinais: Imagens\n",
    "\n",
    "# Prática com Operações Pontuais e OpenCV\n",
    "\n",
    "### Tutoriais da OpenCV\n",
    "\n",
    "- https://docs.opencv.org/master/d9/df8/tutorial_root.html\n",
    "- https://www.geeksforgeeks.org/opencv-python-tutorial/"
   ]
  },
  {
   "cell_type": "markdown",
   "metadata": {},
   "source": [
    "## Conversão de imagem RGB em imagem Grayscale"
   ]
  },
  {
   "cell_type": "code",
   "execution_count": 1,
   "metadata": {},
   "outputs": [],
   "source": [
    "import cv2\n",
    "import numpy as np\n",
    "import matplotlib.pyplot as plt"
   ]
  },
  {
   "cell_type": "code",
   "execution_count": 2,
   "metadata": {},
   "outputs": [],
   "source": [
    "#abria a imagem\n",
    "img = cv2.imread('data/t1.jpg',1)"
   ]
  },
  {
   "cell_type": "code",
   "execution_count": 3,
   "metadata": {},
   "outputs": [],
   "source": [
    "#mostrando a imagem colorida\n",
    "cv2.imshow('in', img)\n",
    "cv2.waitKey(0)\n",
    "cv2.destroyAllWindows()"
   ]
  },
  {
   "cell_type": "code",
   "execution_count": 4,
   "metadata": {},
   "outputs": [],
   "source": [
    "#aplicando conversão básica\n",
    "#numpy\n",
    "img_grayscale_basic = (img[ : , : ,0]+img[ : , : ,1]+img[ : , : ,2])/3\n",
    "\n",
    "#cv2\n",
    "#B, G, R = cv2.split(img)\n",
    "#img_grayscale_basic = (B+G+R)/3\n",
    "\n",
    "img_grayscale_basic = np.array(img_grayscale_basic, dtype=np.uint8)\n",
    "\n",
    "cv2.imshow('img_grayscale_basic', img_grayscale_basic)\n",
    "cv2.waitKey(0)\n",
    "cv2.destroyAllWindows()"
   ]
  },
  {
   "cell_type": "code",
   "execution_count": 5,
   "metadata": {},
   "outputs": [],
   "source": [
    "#aplicando conversão ponderada\n",
    "#img_grayscale_basic = 0.299*img[ : , : ,0] + 0.587*img[ : , : ,1] + 0.114*img[ : , : ,2]\n",
    "\n",
    "#cv2\n",
    "B, G, R = cv2.split(img)\n",
    "img_grayscale_pondered = 0.299*B+0.587*G+0.114*R\n",
    "\n",
    "img_grayscale_pondered = np.array(img_grayscale_pondered, dtype=np.uint8)\n",
    "\n",
    "cv2.imshow('img_grayscale_basic', img_grayscale_pondered)\n",
    "cv2.waitKey(0)\n",
    "cv2.destroyAllWindows()"
   ]
  },
  {
   "cell_type": "code",
   "execution_count": 6,
   "metadata": {},
   "outputs": [
    {
     "data": {
      "text/plain": [
       "(250, 500)"
      ]
     },
     "execution_count": 6,
     "metadata": {},
     "output_type": "execute_result"
    }
   ],
   "source": [
    "img_grayscale_pondered.shape"
   ]
  },
  {
   "cell_type": "markdown",
   "metadata": {},
   "source": [
    "## Histograma de uma imagem"
   ]
  },
  {
   "cell_type": "code",
   "execution_count": 7,
   "metadata": {},
   "outputs": [
    {
     "name": "stdout",
     "output_type": "stream",
     "text": [
      "269.0\n"
     ]
    }
   ],
   "source": [
    "histogram = np.zeros(256)\n",
    "for i in range(img_grayscale_pondered.shape[0]):\n",
    "    for j in range(img_grayscale_pondered.shape[1]):\n",
    "        histogram[img_grayscale_pondered[i,j]] += 1\n",
    "\n",
    "print(histogram[100])"
   ]
  },
  {
   "cell_type": "code",
   "execution_count": 8,
   "metadata": {},
   "outputs": [
    {
     "data": {
      "image/png": "[encoded data removed]",
      "text/plain": [
       "<Figure size 432x288 with 1 Axes>"
      ]
     },
     "metadata": {
      "needs_background": "light"
     },
     "output_type": "display_data"
    }
   ],
   "source": [
    "x = np.linspace(0,256,256)\n",
    "plt.bar(x,histogram)\n",
    "plt.xlabel('intensidade');\n",
    "plt.ylabel('frequência');\n",
    "plt.show()"
   ]
  },
  {
   "cell_type": "code",
   "execution_count": 9,
   "metadata": {},
   "outputs": [
    {
     "data": {
      "image/png": "[encoded data removed]",
      "text/plain": [
       "<Figure size 432x288 with 1 Axes>"
      ]
     },
     "metadata": {
      "needs_background": "light"
     },
     "output_type": "display_data"
    }
   ],
   "source": [
    "plt.hist(img_grayscale_pondered.ravel(),256,[0,256])\n",
    "plt.show()"
   ]
  },
  {
   "cell_type": "code",
   "execution_count": 10,
   "metadata": {},
   "outputs": [
    {
     "data": {
      "image/png": "[encoded data removed]",
      "text/plain": [
       "<Figure size 432x288 with 1 Axes>"
      ]
     },
     "metadata": {
      "needs_background": "light"
     },
     "output_type": "display_data"
    }
   ],
   "source": [
    "histogram_normalized = histogram/(img_grayscale_pondered.shape[0]*img_grayscale_pondered.shape[1])\n",
    "\n",
    "x = np.linspace(0,256,256)\n",
    "plt.plot(x,histogram_normalized)\n",
    "plt.xlabel('intensidade');\n",
    "plt.ylabel('frequência');\n",
    "plt.show()"
   ]
  },
  {
   "cell_type": "markdown",
   "metadata": {},
   "source": [
    "## Transformações"
   ]
  },
  {
   "cell_type": "code",
   "execution_count": 11,
   "metadata": {},
   "outputs": [],
   "source": [
    "#negativo\n",
    "\n",
    "#img_negative[ : , : ,0] = 255 - img[ : , : ,0]\n",
    "#img_negative[ : , : ,1] = 255 - img[ : , : ,1]\n",
    "#img_negative[ : , : ,2] = 255 - img[ : , : ,2]\n",
    "img_in = cv2.imread('data/Fig0304(a)(breast_digital_Xray).tif',1)\n",
    "\n",
    "img_out = 255 - img_in\n",
    "\n",
    "cv2.imshow('in', img_in)\n",
    "cv2.waitKey(0)\n",
    "cv2.imshow('out', img_out)\n",
    "cv2.waitKey(0)\n",
    "cv2.destroyAllWindows()"
   ]
  },
  {
   "cell_type": "code",
   "execution_count": 24,
   "metadata": {},
   "outputs": [
    {
     "name": "stdout",
     "output_type": "stream",
     "text": [
      "5.4380794\n"
     ]
    }
   ],
   "source": [
    "#logaritimica \n",
    "img_in = cv2.imread('data/Fig0305(a)(DFT_no_log).tif',1)\n",
    "\n",
    "c = 1 # 255/(np.log(1 + np.max(img_in)))\n",
    "img_out = np.array((c * np.log(1 + img_in + 0.00001)), dtype=np.float32)\n",
    "\n",
    "\n",
    "print(img_out.max())\n",
    "cv2.imshow('in', img_in)\n",
    "cv2.waitKey(0)\n",
    "cv2.imshow('out', img_out)\n",
    "cv2.waitKey(0)\n",
    "cv2.destroyAllWindows()"
   ]
  },
  {
   "cell_type": "code",
   "execution_count": 39,
   "metadata": {},
   "outputs": [
    {
     "name": "stdout",
     "output_type": "stream",
     "text": [
      "255\n"
     ]
    }
   ],
   "source": [
    "#gamma \n",
    "img_in = cv2.imread('data/Fig0308(a)(fractured_spine).tif',0)\n",
    "\n",
    "c = 1 # 255/(np.log(1 + np.max(img_in)))\n",
    "gamma = 0.6\n",
    "#img_out = np.array(c*255**(img_in/255) ** gamma, dtype = np.uint8)\n",
    "img_out = np.array(c*255*(img_in/255)**gamma, dtype = np.uint8)\n",
    "\n",
    "print(img_out.max())\n",
    "cv2.imshow('in', img_in)\n",
    "cv2.waitKey(0)\n",
    "cv2.imshow('out', img_out)\n",
    "cv2.waitKey(0)\n",
    "cv2.destroyAllWindows()"
   ]
  },
  {
   "cell_type": "code",
   "execution_count": 45,
   "metadata": {},
   "outputs": [],
   "source": [
    "#alargamento de contraste\n",
    "img_in = cv2.imread('data/Fig0310(b)(washed_out_pollen_image).tif',0)\n",
    "\n",
    "img_out = np.zeros(img_in.shape)\n",
    "\n",
    "for i in range(img_in.shape[0]):\n",
    "    for j in range(img_in.shape[1]):\n",
    "        if img_in[i,j] <= 85:\n",
    "            img_out[i,j] = img_in[i,j]/2\n",
    "        if img_in[i,j] > 85 or img_in[i,j] < 170:\n",
    "            img_out[i,j] = 2*img_in[i,j] - 127\n",
    "        if img_in[i,j] >= 170:\n",
    "            img_out[i,j] = img_in[i,j]/2 + 128\n",
    "            \n",
    "img_out = np.array(img_out, dtype = np.uint8)\n",
    "\n",
    "cv2.imshow('in', img_in)\n",
    "cv2.waitKey(0)\n",
    "cv2.imshow('out', img_out)\n",
    "cv2.waitKey(0)\n",
    "cv2.destroyAllWindows()"
   ]
  },
  {
   "cell_type": "code",
   "execution_count": 57,
   "metadata": {},
   "outputs": [],
   "source": [
    "#contraste e brilho\n",
    "img_in = cv2.imread('data/t1.jpg',0)\n",
    "a = 1\n",
    "b = 50\n",
    "\n",
    "img_out = a*img_in + b\n",
    "\n",
    "img_out = np.array(img_out, dtype = np.uint8)\n",
    "\n",
    "cv2.imshow('in', img_in)\n",
    "cv2.waitKey(0)\n",
    "cv2.imshow('out', img_out)\n",
    "cv2.waitKey(0)\n",
    "cv2.destroyAllWindows()"
   ]
  },
  {
   "cell_type": "code",
   "execution_count": 61,
   "metadata": {},
   "outputs": [],
   "source": [
    "#limiar\n",
    "img_in = cv2.imread('data/t1.jpg',0)\n",
    "\n",
    "img_out = np.zeros(img_in.shape)\n",
    "\n",
    "for i in range(img_in.shape[0]):\n",
    "    for j in range(img_in.shape[1]):\n",
    "        if img_in[i,j] < 127 :\n",
    "            img_out[i,j] = 0\n",
    "        else:\n",
    "            img_out[i,j] = 255 #img_in[i,j]\n",
    "\n",
    "img_out = np.array(img_out, dtype = np.uint8)\n",
    "\n",
    "cv2.imshow('in', img_in)\n",
    "cv2.waitKey(0)\n",
    "cv2.imshow('out', img_out)\n",
    "cv2.waitKey(0)\n",
    "cv2.destroyAllWindows()"
   ]
  },
  {
   "cell_type": "code",
   "execution_count": 64,
   "metadata": {},
   "outputs": [],
   "source": [
    "#limiar (com fatiamento por plano)\n",
    "img_in = cv2.imread('data/Fig0312(a)(kidney).tif',0)\n",
    "\n",
    "a = 50\n",
    "b = 150\n",
    "\n",
    "img_out = np.zeros(img_in.shape)\n",
    "\n",
    "for i in range(img_in.shape[0]):\n",
    "    for j in range(img_in.shape[1]):\n",
    "        if img_in[i,j] <= a or img_in[i,j] >= b:\n",
    "            img_out[i,j] = 255\n",
    "        if img_in[i,j] > a and img_in[i,j] < b:\n",
    "            img_out[i,j] = img_in[i,j]\n",
    "            \n",
    "img_out = np.array(img_out, dtype = np.uint8)\n",
    "\n",
    "cv2.imshow('in', img_in)\n",
    "cv2.waitKey(0)\n",
    "cv2.imshow('out', img_out)\n",
    "cv2.waitKey(0)\n",
    "cv2.destroyAllWindows()"
   ]
  }
 ],
 "metadata": {
  "kernelspec": {
   "display_name": "Python 3",
   "language": "python",
   "name": "python3"
  },
  "language_info": {
   "codemirror_mode": {
    "name": "ipython",
    "version": 3
   },
   "file_extension": ".py",
   "mimetype": "text/x-python",
   "name": "python",
   "nbconvert_exporter": "python",
   "pygments_lexer": "ipython3",
   "version": "3.8.5"
  }
 },
 "nbformat": 4,
 "nbformat_minor": 4
}

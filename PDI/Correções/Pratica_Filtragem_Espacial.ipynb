{
  "cells": [
    {
      "cell_type": "markdown",
      "metadata": {
        "id": "view-in-github"
      },
      "source": [
        "<a href=\"https://colab.research.google.com/github/VielF/ColabProjects/blob/main/Pr%C3%A1tica_Filtragem_Espacial.ipynb\" target=\"_parent\"><img src=\"https://colab.research.google.com/assets/colab-badge.svg\" alt=\"Open In Colab\"/></a>"
      ]
    },
    {
      "cell_type": "markdown",
      "metadata": {
        "id": "0A4cGaP0THOB"
      },
      "source": [
        "Universidade do Vale do Itajaí<br>\n",
        "Escola Politécnica<br>\n",
        "Processamento Digital de Sinais: Imagens\n",
        "\n",
        "# Exercício Avalitivo de Filtragem Espacial\n",
        "\n",
        "### Tutoriais da OpenCV\n",
        "\n",
        "- https://docs.opencv.org/master/d9/df8/tutorial_root.html\n",
        "- https://www.geeksforgeeks.org/opencv-python-tutorial/"
      ]
    },
    {
      "cell_type": "markdown",
      "metadata": {
        "id": "jNEPMubMTHOC"
      },
      "source": [
        "## Conversão de imagem RGB em imagem Grayscale"
      ]
    },
    {
      "cell_type": "code",
      "execution_count": 1,
      "metadata": {
        "id": "V9LgCTiuTHOD"
      },
      "outputs": [],
      "source": [
        "import cv2\n",
        "import numpy as np\n",
        "import matplotlib.pyplot as plt\n",
        "from google.colab.patches import cv2_imshow\n"
      ]
    },
    {
      "cell_type": "code",
      "execution_count": null,
      "metadata": {
        "colab": {
          "base_uri": "https://localhost:8080/",
          "height": 267
        },
        "id": "ls0tquF8THOD",
        "outputId": "b8707d42-f079-4121-f8ca-22094109da7f"
      },
      "outputs": [],
      "source": [
        "#abria a imagem\n",
        "img = cv2.imread('/content/data/t1.jpg',1)\n",
        "cv2_imshow(img)"
      ]
    },
    {
      "cell_type": "code",
      "execution_count": null,
      "metadata": {
        "id": "6cCMWllFTHOE"
      },
      "outputs": [],
      "source": [
        "#mostrando a imagem colorida\n",
        "#cv2.imshow('in', img)\n",
        "#cv2.waitKey(0)\n",
        "#cv2.destroyAllWindows()"
      ]
    },
    {
      "cell_type": "code",
      "execution_count": null,
      "metadata": {
        "colab": {
          "base_uri": "https://localhost:8080/",
          "height": 267
        },
        "id": "H_qCe356THOE",
        "outputId": "68b0193e-ac4e-478a-fcde-201eed6ef242"
      },
      "outputs": [],
      "source": [
        "#aplicando conversão básica\n",
        "#numpy\n",
        "#img_grayscale_basic = (img[ : , : ,0]+img[ : , : ,1]+img[ : , : ,2])/3\n",
        "\n",
        "#cv2\n",
        "B, G, R = cv2.split(img)\n",
        "img_grayscale_basic = (B+G+R)/3\n",
        "\n",
        "img_grayscale_basic = np.array(img_grayscale_basic, dtype=np.uint8)\n",
        "\n",
        "cv2_imshow(img_grayscale_basic)\n",
        "##cv2.waitKey(0)\n",
        "#cv2.destroyAllWindows()"
      ]
    },
    {
      "cell_type": "code",
      "execution_count": null,
      "metadata": {
        "colab": {
          "base_uri": "https://localhost:8080/",
          "height": 267
        },
        "id": "h5xJiS7ETHOE",
        "outputId": "8e8d5b2f-76c3-4798-81f1-5369ed532617"
      },
      "outputs": [],
      "source": [
        "#aplicando conversão ponderada\n",
        "#img_grayscale_basic = 0.299*img[ : , : ,0] + 0.587*img[ : , : ,1] + 0.114*img[ : , : ,2]\n",
        "\n",
        "#cv2\n",
        "B, G, R = cv2.split(img)\n",
        "img_grayscale_pondered = 0.299*B+0.587*G+0.114*R\n",
        "\n",
        "img_grayscale_pondered = np.array(img_grayscale_pondered, dtype=np.uint8)\n",
        "\n",
        "cv2_imshow(img_grayscale_pondered)\n",
        "#cv2.waitKey(0)\n",
        "#cv2.destroyAllWindows()"
      ]
    },
    {
      "cell_type": "markdown",
      "metadata": {
        "id": "O-Q8z4jJTHOF"
      },
      "source": [
        "## Filtro Espacial\n"
      ]
    },
    {
      "cell_type": "code",
      "execution_count": 118,
      "metadata": {
        "id": "V8CV7s2jTHOF"
      },
      "outputs": [],
      "source": [
        "def gauss_create(sigma=1, size_x=3, size_y=3):\n",
        "    '''\n",
        "    Create normal (gaussian) distribuiton\n",
        "    '''\n",
        "    x, y = np.meshgrid(np.linspace(-1,1,size_x), np.linspace(-1,1,size_y))\n",
        "    calc = 1/((2*np.pi*(sigma**2)))\n",
        "    exp = np.exp(-(((x**2) + (y**2))/(2*(sigma**2))))\n",
        "\n",
        "    return exp*calc\n",
        "\n"
      ]
    },
    {
      "cell_type": "markdown",
      "metadata": {
        "id": "k9wenP4STHOF"
      },
      "source": [
        "### Suavização\n",
        "\n",
        "1. Implemente a sua própria convolução manualmente, em formato de função, utilizando os conceitos vistos em aula\n",
        "2. Aplique a filtragem de suavização, com as máscaras 3x3, 5x5 e 7x7, com os filtros:\n",
        " - média\n",
        " - gaussino (escolha uma distribuição adequada, podendo utilizar a função acima ou recuperando a distribuição usada na OpenCV)\n",
        " - mediana\n",
        "3. Relate as observações visíveis nas imagens de saída com os filtros usados, descrevendo o comportamento visual em relação as bordas, ruídos e esmaecimento da imagem com os diferentes kernels\n",
        "\n",
        "#### Dicas\n",
        " - Você pode adicionar ruído nas imagens usando a função random_noise: `from skimage.util import random_noise`. Cuidado com o retorno da função, talvez seja necessário regularizar a mesma novamente para o intervalo de 0 à 255."
      ]
    },
    {
      "cell_type": "code",
      "execution_count": 119,
      "metadata": {
        "id": "uEEcwYHWJXae"
      },
      "outputs": [],
      "source": [
        "def add_padding(img, padding_height, padding_width):\n",
        "    n, m = img.shape\n",
        "\n",
        "    padded_img = np.zeros((n + padding_height * 2, m + padding_width * 2))\n",
        "    padded_img[padding_height : n + padding_height, padding_width : m + padding_width] = img\n",
        "\n",
        "    return padded_img"
      ]
    },
    {
      "cell_type": "code",
      "execution_count": null,
      "metadata": {
        "colab": {
          "base_uri": "https://localhost:8080/"
        },
        "id": "gZbBdWjOQr5j",
        "outputId": "fa13cbcc-c27b-497f-ce7f-12c798ed6be4"
      },
      "outputs": [],
      "source": [
        "def bubble_sort(arr):\n",
        "\n",
        "    # Outer loop to iterate through the list n times\n",
        "    for n in range(len(arr) - 1, 0, -1):\n",
        "\n",
        "        # Inner loop to compare adjacent elements\n",
        "        for i in range(n):\n",
        "            if arr[i] > arr[i + 1]:\n",
        "\n",
        "                # Swap elements if they are in the wrong order\n",
        "                swapped = True\n",
        "                arr[i], arr[i + 1] = arr[i + 1], arr[i]\n",
        "    return arr\n"
      ]
    },
    {
      "cell_type": "code",
      "execution_count": 113,
      "metadata": {
        "id": "Chgyg8wWTHOG"
      },
      "outputs": [],
      "source": [
        "def conv2d(img, kernel, padding=True):\n",
        "    # Get dimensions of the kernel\n",
        "    k_height, k_width = kernel.shape  # Atribui valor à variável k_height, k_width\n",
        "\n",
        "    # Get dimensions of the image\n",
        "    img_height, img_width = img.shape  # Atribui valor à variável img_height, img_width\n",
        "\n",
        "    # Calculate padding required\n",
        "    pad_height = k_height // 2  # Atribui valor à variável pad_height\n",
        "    pad_width = k_width // 2  # Atribui valor à variável pad_width\n",
        "\n",
        "    # Create a padded version of the image to handle edges\n",
        "    if padding == True:\n",
        "        padded_img = add_padding(img, pad_height, pad_width)  # Atribui valor à variável padded_img\n",
        "\n",
        "    #print(padded_img)\n",
        "\n",
        "    # Initialize an output image with zeros\n",
        "    output = np.zeros((img_height, img_width), dtype=float)  # Atribui valor à variável output\n",
        "\n",
        "    # Perform convolution\n",
        "    for i_img in range(img_height):  # Loop usando i\n",
        "        for j_img in range(img_width):  # Loop usando j\n",
        "            for i_kernel in range(k_height):\n",
        "                for j_kernel in range(k_width):\n",
        "                    output[i_img, j_img] = output[i_img, j_img] + (padded_img[i_img+i_kernel, j_img+j_kernel] * kernel[i_kernel, j_kernel])  # Atribui valor à variável output[i, j]\n",
        "            output[i_img, j_img] = int(output[i_img, j_img])\n",
        "\n",
        "    return np.array(output, dtype=np.uint8)\n",
        "\n"
      ]
    },
    {
      "cell_type": "code",
      "execution_count": null,
      "metadata": {
        "colab": {
          "base_uri": "https://localhost:8080/",
          "height": 1000
        },
        "id": "wAFHLUSZJXaf",
        "outputId": "8f40af71-8ba5-44fa-c3c2-71ff16fa154b"
      },
      "outputs": [],
      "source": [
        "mean_3x3 = np.ones((3, 3))/9\n",
        "mean_5x5 = np.ones((5, 5))/25\n",
        "mean_7x7 = np.ones((7, 7))/49\n",
        "\n",
        "\n",
        "img_mean = conv2d(img_grayscale_pondered, mean_3x3)\n",
        "conv_opencv = cv2.filter2D(src=img_grayscale_pondered, ddepth=-1, kernel=mean_3x3, borderType=cv2.BORDER_CONSTANT)\n",
        "print(img_mean)\n",
        "print(conv_opencv)\n",
        "cv2_imshow(img_mean)\n"
      ]
    },
    {
      "cell_type": "code",
      "execution_count": null,
      "metadata": {
        "colab": {
          "base_uri": "https://localhost:8080/"
        },
        "id": "bzLPBdLQOPnz",
        "outputId": "72220e12-0d05-4114-8abf-8212a0001f04"
      },
      "outputs": [],
      "source": [
        "#gaussiano\n",
        "gaus_3x3 = gauss_create(sigma=1, size_x=3, size_y=3)\n",
        "gaus_5x5 = gauss_create(sigma=1, size_x=5, size_y=5)\n",
        "gaus_7x7 = gauss_create(sigma=1, size_x=7, size_y=7)\n",
        "\n",
        "img_mean = conv2d(img_grayscale_pondered, gaus_3x3)\n",
        "conv_opencv = cv2.filter2D(src=img_grayscale_pondered, ddepth=-1, kernel=gaus_3x3, borderType=cv2.BORDER_CONSTANT)\n",
        "print(img_mean)\n",
        "print(conv_opencv)"
      ]
    },
    {
      "cell_type": "code",
      "execution_count": 98,
      "metadata": {
        "id": "7RWBuXg6VfEy"
      },
      "outputs": [],
      "source": [
        "def medianFilter(img, kernel, padding=True):\n",
        "    # Get dimensions of the kernel\n",
        "    k_height, k_width = kernel.shape  # Atribui valor à variável k_height, k_width\n",
        "\n",
        "    # Get dimensions of the image\n",
        "    img_height, img_width = img.shape  # Atribui valor à variável img_height, img_width\n",
        "\n",
        "    # Calculate padding required\n",
        "    pad_height = k_height // 2  # Atribui valor à variável pad_height\n",
        "    pad_width = k_width // 2  # Atribui valor à variável pad_width\n",
        "\n",
        "    # Create a padded version of the image to handle edges\n",
        "    if padding == True:\n",
        "        padded_img = add_padding(img, pad_height, pad_width)  # Atribui valor à variável padded_img\n",
        "    else:\n",
        "        padded_img = img\n",
        "    #print(padded_img)\n",
        "\n",
        "    # Initialize an output image with zeros\n",
        "    output = np.zeros((img_height, img_width), dtype=float)  # Atribui valor à variável output\n",
        "    kernel_vectorized = np.zeros(k_height*k_width)\n",
        "    #print(kernel_vectorized)\n",
        "    # Perform convolution\n",
        "    for i_img in range(img_height):  # Loop usando i\n",
        "        for j_img in range(img_width):  # Loop usando j\n",
        "            i_vector = 0\n",
        "            for i_kernel in range(k_height):\n",
        "                for j_kernel in range(k_width):\n",
        "                    kernel_vectorized[i_vector] = padded_img[i_img+i_kernel, j_img+j_kernel]  # Atribui valor à variável output[i, j]\n",
        "                    i_vector+=1\n",
        "            kernel_vectorized = bubble_sort(kernel_vectorized)\n",
        "            median_index = int(((k_height*k_width)/2)+1)\n",
        "            output[i_img, j_img] = int(kernel_vectorized[median_index])\n",
        "\n",
        "    return np.array(output, dtype=np.uint8)"
      ]
    },
    {
      "cell_type": "code",
      "execution_count": null,
      "metadata": {
        "colab": {
          "base_uri": "https://localhost:8080/",
          "height": 632
        },
        "id": "1QHG6fQrOu02",
        "outputId": "4818411b-0da0-4263-988a-bebcc80a5213"
      },
      "outputs": [],
      "source": [
        "#gaussiano\n",
        "gaus_3x3 = gauss_create(sigma=1, size_x=3, size_y=3)\n",
        "gaus_5x5 = gauss_create(sigma=1, size_x=5, size_y=5)\n",
        "gaus_7x7 = gauss_create(sigma=1, size_x=7, size_y=7)\n",
        "\n",
        "img_mean = medianFilter(img_grayscale_pondered, gaus_3x3, padding=True)\n",
        "conv_opencv = cv2.medianBlur(img_grayscale_pondered, 3)\n",
        "print(img_grayscale_pondered)\n",
        "print(img_mean)\n",
        "print(conv_opencv)\n",
        "cv2_imshow(img_mean)"
      ]
    },
    {
      "cell_type": "markdown",
      "metadata": {
        "id": "uGbbZhqPTHOG"
      },
      "source": [
        "### Sharpening\n",
        "\n",
        "4. Implemente os filtros de sharpening, utilizando as diferentes mascarás apresentadas no livro de referência da disciplina:\n",
        " - Laplaciano (figura 3.37)\n",
        " - Sharpening implementado na figura 3.38\n",
        " - Unsharp Masking e Highboost Filtering\n",
        " - Implemente os detectores de borda Laplaciano, Roberts e Sobel\n",
        " - Utilize a função Canny da OpenCV na mesma imagem usando nos outros detectores\n",
        "\n",
        "5. Relate as observações visíveis nas imagens de saída com os filtros usados, descrevendo o comportamento visual em relação as bordas, ruídos e esmaecimento da imagem com os diferentes kernels e para os diferentes algoritmos\n",
        "6. Você observa uma discrepante melhoria na detecção de bordas pelo Canny em comparação aos outros 3 que justifique a complexidade adicional?\n",
        "7. Aplique o filtro Sobel pós operação com um filtro de suavização (a sua escolha) e compare com a saída do Canny. Descreva suas observações técnicas sobre o comportamento."
      ]
    },
    {
      "cell_type": "code",
      "execution_count": 128,
      "metadata": {
        "id": "A3DsgR6pp5LM"
      },
      "outputs": [],
      "source": [
        "def conv2d_sharpening(img, kernel, padding=True):\n",
        "    # Get dimensions of the kernel\n",
        "    k_height, k_width = kernel.shape  # Atribui valor à variável k_height, k_width\n",
        "\n",
        "    # Get dimensions of the image\n",
        "    img_height, img_width = img.shape  # Atribui valor à variável img_height, img_width\n",
        "\n",
        "    # Calculate padding required\n",
        "    pad_height = k_height // 2  # Atribui valor à variável pad_height\n",
        "    pad_width = k_width // 2  # Atribui valor à variável pad_width\n",
        "\n",
        "    # Create a padded version of the image to handle edges\n",
        "    if padding == True:\n",
        "        padded_img = add_padding(img, pad_height, pad_width)  # Atribui valor à variável padded_img\n",
        "\n",
        "    #print(padded_img)\n",
        "\n",
        "    # Initialize an output image with zeros\n",
        "    output = np.zeros((img_height, img_width), dtype=float)  # Atribui valor à variável output\n",
        "\n",
        "    # Perform convolution\n",
        "    for i_img in range(img_height):  # Loop usando i\n",
        "        for j_img in range(img_width):  # Loop usando j\n",
        "            #calcula kernel\n",
        "            for i_kernel in range(k_height):\n",
        "                for j_kernel in range(k_width):\n",
        "                    output[i_img, j_img] = output[i_img, j_img] + (padded_img[i_img+i_kernel, j_img+j_kernel] * kernel[i_kernel, j_kernel])  # Atribui valor à variável output[i, j]\n",
        "            output[i_img, j_img] = int(output[i_img, j_img])\n",
        "\n",
        "    return np.array(output, dtype=np.float32)"
      ]
    },
    {
      "cell_type": "code",
      "execution_count": null,
      "metadata": {
        "colab": {
          "base_uri": "https://localhost:8080/",
          "height": 517
        },
        "id": "UYUu1wKoTHOG",
        "outputId": "a38df078-6422-4848-d243-e6fd061f063a"
      },
      "outputs": [],
      "source": [
        "kernel_laplaciano = np.array(([0,1,0],[1,-4,1],[0,1,0]))\n",
        "kernel_roberts_1 = np.array(([-1,0],[0,1]))\n",
        "kernel_roberts_2 = np.array(([0,-1],[1,0]))\n",
        "kernel_sobel_1 = np.array(([-1,-2,-1],[0,0,0],[1,2,1]))\n",
        "kernel_sobel_2 = np.array(([-1,0,1],[-2,0,2],[-1,0,1]))\n",
        "\n",
        "img_sobel_1 = conv2d_sharpening(img_grayscale_pondered, kernel_sobel_1)\n",
        "img_sobel_2 = conv2d_sharpening(img_grayscale_pondered, kernel_sobel_2)\n",
        "\n",
        "img_sobel = np.abs(img_sobel_1)+np.abs(img_sobel_2)\n",
        "cv2_imshow(img_sobel)\n",
        "\n",
        "laplaciano = conv2d_sharpening(img_grayscale_pondered, kernel_laplaciano)\n",
        "cv2_imshow(laplaciano)"
      ]
    },
    {
      "cell_type": "code",
      "execution_count": null,
      "metadata": {
        "id": "3cjlIt6CTHOG"
      },
      "outputs": [],
      "source": []
    }
  ],
  "metadata": {
    "colab": {
      "provenance": []
    },
    "kernelspec": {
      "display_name": "Python 3",
      "language": "python",
      "name": "python3"
    },
    "language_info": {
      "codemirror_mode": {
        "name": "ipython",
        "version": 3
      },
      "file_extension": ".py",
      "mimetype": "text/x-python",
      "name": "python",
      "nbconvert_exporter": "python",
      "pygments_lexer": "ipython3",
      "version": "3.10.8"
    }
  },
  "nbformat": 4,
  "nbformat_minor": 0
}
